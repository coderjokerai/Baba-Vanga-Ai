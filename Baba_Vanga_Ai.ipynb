{
  "cells": [
    {
      "cell_type": "markdown",
      "metadata": {
        "id": "g2xWpoz8HlxV"
      },
      "source": [
        "# Baba Vanga Ai\n",
        "\n",
        "URL: [https://arsiv.mackolik.com/Canli-Sonuclar](https://arsiv.mackolik.com/Canli-Sonuclar)\n",
        "\n",
        "Github: [https://github.com/coderjokerai/Baba-Vanga-Ai](https://github.com/coderjokerai/Baba-Vanga-Ai)"
      ]
    },
    {
      "cell_type": "code",
      "execution_count": null,
      "metadata": {
        "id": "ENM730HVHgv2"
      },
      "outputs": [],
      "source": [
        "!git clone https://github.com/coderjokerai/Baba-Vanga-Ai.git\n",
        "!pip install -r Baba-Vanga-Ai/requirements.txt"
      ]
    },
    {
      "cell_type": "code",
      "execution_count": null,
      "metadata": {
        "id": "sXqjzsJeIo42"
      },
      "outputs": [],
      "source": [
        "!python Baba-Vanga-Ai/run.py"
      ]
    }
  ],
  "metadata": {
    "colab": {
      "provenance": []
    },
    "kernelspec": {
      "display_name": "Python 3",
      "name": "python3"
    },
    "language_info": {
      "name": "python"
    }
  },
  "nbformat": 4,
  "nbformat_minor": 0
}
