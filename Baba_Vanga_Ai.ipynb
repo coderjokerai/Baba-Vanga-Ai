{
  "nbformat": 4,
  "nbformat_minor": 0,
  "metadata": {
    "colab": {
      "provenance": []
    },
    "kernelspec": {
      "name": "python3",
      "display_name": "Python 3"
    },
    "language_info": {
      "name": "python"
    }
  },
  "cells": [
    {
      "cell_type": "markdown",
      "source": [
        "# Baba Vanga Ai\n",
        "\n",
        "URL: [https://arsiv.mackolik.com/Canli-Sonuclar](https://arsiv.mackolik.com/Canli-Sonuclar)\n",
        "\n",
        "Github: [https://github.com/coderjokerai/baba-vanga-ai](https://github.com/coderjokerai/baba-vanga-ai)"
      ],
      "metadata": {
        "id": "g2xWpoz8HlxV"
      }
    },
    {
      "cell_type": "code",
      "execution_count": null,
      "metadata": {
        "id": "ENM730HVHgv2"
      },
      "outputs": [],
      "source": [
        "!git clone https://github.com/coderjokerai/baba-vanga-ai.git\n",
        "!pip install -r baba-vanga-ai/requirements.txt"
      ]
    },
    {
      "cell_type": "code",
      "source": [
        "!python baba-vanga-ai/run.py"
      ],
      "metadata": {
        "id": "sXqjzsJeIo42"
      },
      "execution_count": null,
      "outputs": []
    }
  ]
}